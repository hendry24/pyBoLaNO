{
 "cells": [
  {
   "cell_type": "markdown",
   "metadata": {},
   "source": [
    "$$\n",
    "\\newcommand{\\trace}[1]{\\mathrm{tr}\\left({#1}\\right)}\n",
    "\\newcommand{\\expval}[1]{\\left\\langle{#1}\\right\\rangle}\n",
    "\\newcommand{\\comm}[2]{\\left[{#1},{#2}\\right]}\n",
    "\\newcommand{\\acomm}[2]{\\left\\{{#1},{#2}\\right\\}}\n",
    "\\newcommand{\\dissip}[1]{\\mathcal{D}\\left({#1}\\right)\\left[\\rho\\right]}\n",
    "\\newcommand{\\bop}{\\hat{b}}\n",
    "\\newcommand{\\bopn}[1]{\\bop^{#1}}\n",
    "\\newcommand{\\bdag}{\\bop^\\dagger}\n",
    "\\newcommand{\\bdagn}[1]{\\bop^{\\dagger {#1}}}\n",
    "\\newcommand{\\odv}[2]{\\frac{\\mathrm{d}{#1}}{\\mathrm{d}{#2}}}\n",
    "$$"
   ]
  },
  {
   "cell_type": "markdown",
   "metadata": {},
   "source": [
    "### **Welcome abroad!**\n",
    "`boson_ladder` is _fully_ based on `SymPy`. However, there is no need to specifically import anything from `SymPy` to use the features of this package, except if you want to use `sympy.Symbol` as variables.\n",
    "\n",
    "This tutorial contains four topics:\n",
    "-   The bosonic ladder operator objects\n",
    "-   Normal ordering\n",
    "-   Evaluating commutators\n",
    "-   Expectation value evolution in the Lindblad master equation framework\n",
    "\n",
    "We hope you learn something new and have fun!\n",
    "\n",
    "\\- The authors"
   ]
  },
  {
   "cell_type": "code",
   "execution_count": 3,
   "metadata": {},
   "outputs": [],
   "source": [
    "import pybolano as bl\n",
    "import sympy as sm\n",
    "\n",
    "latex = sm.latex"
   ]
  },
  {
   "cell_type": "markdown",
   "metadata": {},
   "source": [
    "---"
   ]
  },
  {
   "cell_type": "markdown",
   "metadata": {},
   "source": [
    "### **The bosonic ladder operator objects**\n",
    "\n",
    "In `SymPy`, the ladder operators are available as `sympy.physics.secondquant.AnnihilateBoson` and `sympy.physics.secondquant.CreateBoson`. In this package, the recommended way to get these objects is by calling [`boson_ladder.ops`](https://github.com/hendry24/boson_ladder/blob/main/boson_ladder/utils/operators.py?plain=1#L19):"
   ]
  },
  {
   "cell_type": "code",
   "execution_count": 4,
   "metadata": {},
   "outputs": [
    {
     "data": {
      "text/latex": [
       "$\\displaystyle b_{1}$"
      ],
      "text/plain": [
       "AnnihilateBoson(1)"
      ]
     },
     "execution_count": 4,
     "metadata": {},
     "output_type": "execute_result"
    }
   ],
   "source": [
    "b_1, bd_1 = bl.ops(1)\n",
    "b_2, bd_2 = bl.ops(2)\n",
    "\n",
    "b_1"
   ]
  },
  {
   "cell_type": "code",
   "execution_count": 5,
   "metadata": {},
   "outputs": [
    {
     "data": {
      "text/latex": [
       "$\\displaystyle {b^\\dagger_{1}}$"
      ],
      "text/plain": [
       "CreateBoson(1)"
      ]
     },
     "execution_count": 5,
     "metadata": {},
     "output_type": "execute_result"
    }
   ],
   "source": [
    "bd_1"
   ]
  },
  {
   "cell_type": "markdown",
   "metadata": {},
   "source": [
    "[There are also the ladder operators implemented as `BosonOp` in `sympy.physics.quantum.boson`, for which there is actually a separate normal ordering routine (other than `wicks`). However, we do not like the normal ordering algorithm (it is _very_ slow) and prefer the ladder operators in `sympy.physics.secondquant`, so we use those in our package.]"
   ]
  },
  {
   "cell_type": "markdown",
   "metadata": {},
   "source": [
    "Using ``SymPy`` we can also print the object as a LaTeX code:"
   ]
  },
  {
   "cell_type": "code",
   "execution_count": 6,
   "metadata": {},
   "outputs": [
    {
     "data": {
      "text/plain": [
       "'b_{1}'"
      ]
     },
     "execution_count": 6,
     "metadata": {},
     "output_type": "execute_result"
    }
   ],
   "source": [
    "latex(b_1)"
   ]
  },
  {
   "cell_type": "markdown",
   "metadata": {},
   "source": [
    "There are several advantages of calling this function over calling the `SymPy` constructors: \n",
    "-   You do not need to manually import `sympy.physics.secondquant` which requires a separate import. \n",
    "-   You also only need to call one thing instead of two. \n",
    "-   As shown above, you can input any nonzero integer as a subscript without the constructor raising an error when printing the latex output (this may just be a bug):"
   ]
  },
  {
   "cell_type": "code",
   "execution_count": 7,
   "metadata": {},
   "outputs": [
    {
     "name": "stdout",
     "output_type": "stream",
     "text": [
      "An exception is raised!\n"
     ]
    }
   ],
   "source": [
    "from sympy.physics.secondquant import AnnihilateBoson\n",
    "try:\n",
    "    latex(AnnihilateBoson(1))\n",
    "except:\n",
    "    print(\"An exception is raised!\")"
   ]
  },
  {
   "cell_type": "markdown",
   "metadata": {},
   "source": [
    "If you are working with single-mode systems, you can remove the subscript by specifying no input:"
   ]
  },
  {
   "cell_type": "code",
   "execution_count": 8,
   "metadata": {},
   "outputs": [
    {
     "data": {
      "text/latex": [
       "$\\displaystyle b_{}$"
      ],
      "text/plain": [
       "AnnihilateBoson()"
      ]
     },
     "execution_count": 8,
     "metadata": {},
     "output_type": "execute_result"
    }
   ],
   "source": [
    "b, bd = bl.ops()\n",
    "b"
   ]
  },
  {
   "cell_type": "code",
   "execution_count": 9,
   "metadata": {},
   "outputs": [
    {
     "data": {
      "text/latex": [
       "$\\displaystyle {b^\\dagger_{}}$"
      ],
      "text/plain": [
       "CreateBoson()"
      ]
     },
     "execution_count": 9,
     "metadata": {},
     "output_type": "execute_result"
    }
   ],
   "source": [
    "bd"
   ]
  },
  {
   "cell_type": "markdown",
   "metadata": {},
   "source": [
    "which cannot be done in the current version of `SymPy`:"
   ]
  },
  {
   "cell_type": "code",
   "execution_count": 10,
   "metadata": {},
   "outputs": [
    {
     "name": "stdout",
     "output_type": "stream",
     "text": [
      "Whoa, there!\n"
     ]
    }
   ],
   "source": [
    "from sympy.physics.secondquant import AnnihilateBoson\n",
    "try:\n",
    "    AnnihilateBoson()\n",
    "except:\n",
    "    print(\"Whoa, there!\")"
   ]
  },
  {
   "cell_type": "markdown",
   "metadata": {},
   "source": [
    "Other than the construction process, the outputs of `ops` are really the `SymPy` objects:"
   ]
  },
  {
   "cell_type": "code",
   "execution_count": 11,
   "metadata": {},
   "outputs": [
    {
     "data": {
      "text/plain": [
       "True"
      ]
     },
     "execution_count": 11,
     "metadata": {},
     "output_type": "execute_result"
    }
   ],
   "source": [
    "isinstance(b, AnnihilateBoson)"
   ]
  },
  {
   "cell_type": "markdown",
   "metadata": {},
   "source": [
    "---"
   ]
  },
  {
   "cell_type": "markdown",
   "metadata": {},
   "source": [
    "### **The bread and butter**\n",
    "\n",
    "The $j$-th mode boson annihilation $\\hat{b}_j$ and creation $\\hat{b}_j^\\dagger$ operators (which we call the **ladder operators**, for brevity) are defined by their commutation relations\n",
    "\\begin{align}\n",
    "    \\left[\\hat{b}_j,\\hat{b}_k\\right] =\\left[\\hat{b}_j^\\dagger,\\hat{b}_k^\\dagger\\right] &= 0\n",
    "    \\notag\n",
    "    \\\\\n",
    "    \\left[\\hat{b}_j,\\hat{b}_k^\\dagger\\right] &= \\delta_{jk}\n",
    "    \\notag\n",
    "\\end{align}\n",
    "where $\\delta_{jk}$ is the Kronecker delta. This package is based on the explicit formula by [Blasiak](https://arxiv.org/abs/quant-ph/0507206),\n",
    "\\begin{equation*}\n",
    "    :\\mathrel{\\bdagn{r_M}\\bop^{s_M}\\dots \\bdagn{r_2}\\bop^{s_2}\\bdagn{r_1}\\bop^{s_1}}: = \n",
    "    \\begin{cases}\\displaystyle\n",
    "        \\bdagn{d_M}\\sum_{k=s_1}^{s_1+s_2+\\dots+s_M} S_{\\bm{r},\\bm{s}}(k)\\bdagn{k}\\bop^k,\n",
    "        &\n",
    "        d_M \\geq 0\n",
    "        \\\\\n",
    "        \\displaystyle\n",
    "        \\sum_{k=r_M}^{r_1+r_2+\\dots+r_M} S_{\\overline{\\bm{s}},\\overline{\\bm{r}}}(k)\\bdagn{k}\\bop^k\\ \\bop^{-d_M},\n",
    "        &\n",
    "        d_M<0\n",
    "    \\end{cases}\n",
    "\\end{equation*}\n",
    "where\n",
    "\\begin{equation*}\n",
    "    d_l = \\sum_{m=1}^l\\left(r_m-s_m\\right)\n",
    "\\end{equation*}\n",
    "is the $l$-th excess (of creation operators) and \n",
    "\\begin{equation*}\n",
    "    S_{\\bm{r},\\bm{s}}(k) = \\frac{1}{k!}\\sum_{j=0}^k \\binom{k}{j}\\left(-1\\right)^{k-j}\\prod_{m=1}^M \\left(d_{m-1}+j\\right)_{s_m}\n",
    "\\end{equation*}\n",
    "is called the generalized Stirling number."
   ]
  },
  {
   "cell_type": "markdown",
   "metadata": {},
   "source": [
    "---"
   ]
  },
  {
   "cell_type": "markdown",
   "metadata": {},
   "source": [
    "### **Normal ordering**\n",
    "\n",
    "Normal ordering means using the commutation relations to obtain an expression where all creation operators $b_j^\\dagger$ are positioned to the left of all annihilation operators $b_j$. Other than making the expressions nicer to see, normal-ordered operators behave nicer in quantum mechanics (see the [optical equivalence theorem](https://en.wikipedia.org/wiki/Optical_equivalence_theorem)). \n",
    "\n",
    "The function [`normal_ordering`](https://github.com/hendry24/boson_ladder/blob/main/boson_ladder/core/do_commutator.py#L170) normal-orders the input expression. Assuming a polynomial in the ladder operators (the most general form), the algorithm separates each addend by its subscripts. For each factor of one subscript, Blasiak's formulae above are used to compute the normal-ordered form. The factors are then multiplied, and the products for different terms are summed to give an almost-normal-ordered expression. Lastly, the algorithm moves the operators with different indices (which commute) around to give a nice-looking output."
   ]
  },
  {
   "cell_type": "code",
   "execution_count": 12,
   "metadata": {},
   "outputs": [
    {
     "data": {
      "text/latex": [
       "$\\displaystyle b_{} + {b^\\dagger_{}} b_{}^{2}$"
      ],
      "text/plain": [
       "AnnihilateBoson() + CreateBoson()*AnnihilateBoson()**2"
      ]
     },
     "execution_count": 12,
     "metadata": {},
     "output_type": "execute_result"
    }
   ],
   "source": [
    "bl.normal_ordering(b * bd * b)"
   ]
  },
  {
   "cell_type": "markdown",
   "metadata": {},
   "source": [
    "You can also use the shorthand `NO`,"
   ]
  },
  {
   "cell_type": "code",
   "execution_count": 13,
   "metadata": {},
   "outputs": [
    {
     "data": {
      "text/latex": [
       "$\\displaystyle b_{1} + {b^\\dagger_{1}} b_{1}^{2}$"
      ],
      "text/plain": [
       "AnnihilateBoson(1) + CreateBoson(1)*AnnihilateBoson(1)**2"
      ]
     },
     "execution_count": 13,
     "metadata": {},
     "output_type": "execute_result"
    }
   ],
   "source": [
    "bl.NO(b_1 * bd_1 * b_1)"
   ]
  },
  {
   "cell_type": "markdown",
   "metadata": {},
   "source": [
    "**Multipartite input:**"
   ]
  },
  {
   "cell_type": "code",
   "execution_count": 14,
   "metadata": {},
   "outputs": [
    {
     "data": {
      "text/latex": [
       "$\\displaystyle 2 {b^\\dagger_{1}} {b^\\dagger_{2}} b_{1} + {b^\\dagger_{1}} {b^\\dagger_{2}}^{2} b_{1} b_{2} + 2 {b^\\dagger_{2}} + {b^\\dagger_{2}}^{2} b_{2}$"
      ],
      "text/plain": [
       "2*CreateBoson(1)*CreateBoson(2)*AnnihilateBoson(1) + CreateBoson(1)*CreateBoson(2)**2*AnnihilateBoson(1)*AnnihilateBoson(2) + 2*CreateBoson(2) + CreateBoson(2)**2*AnnihilateBoson(2)"
      ]
     },
     "execution_count": 14,
     "metadata": {},
     "output_type": "execute_result"
    }
   ],
   "source": [
    "bl.normal_ordering(b_2 * b_1 * bd_2**2 * bd_1)"
   ]
  },
  {
   "cell_type": "code",
   "execution_count": 15,
   "metadata": {},
   "outputs": [
    {
     "name": "stdout",
     "output_type": "stream",
     "text": [
      "2 {b^\\dagger_{1}} {b^\\dagger_{2}} b_{1} + {b^\\dagger_{1}} {b^\\dagger_{2}}^{2} b_{1} b_{2} + 2 {b^\\dagger_{2}} + {b^\\dagger_{2}}^{2} b_{2}\n"
     ]
    }
   ],
   "source": [
    "print(latex(\n",
    "bl.normal_ordering(b_2 * b_1 * bd_2**2 * bd_1)\n",
    "))"
   ]
  },
  {
   "cell_type": "markdown",
   "metadata": {},
   "source": [
    "NOTE: the subscripts are ordered based on occurence, as they are treated as `sympy.Symbol` even if a `Number` is input."
   ]
  },
  {
   "cell_type": "markdown",
   "metadata": {},
   "source": [
    "**Polynomial input:**"
   ]
  },
  {
   "cell_type": "code",
   "execution_count": 16,
   "metadata": {},
   "outputs": [
    {
     "data": {
      "text/latex": [
       "$\\displaystyle b_{2} + 5 {b^\\dagger_{1}} b_{1} b_{2}^{2} + {b^\\dagger_{2}} b_{1}$"
      ],
      "text/plain": [
       "AnnihilateBoson(2) + 5*CreateBoson(1)*AnnihilateBoson(1)*AnnihilateBoson(2)**2 + CreateBoson(2)*AnnihilateBoson(1)"
      ]
     },
     "execution_count": 16,
     "metadata": {},
     "output_type": "execute_result"
    }
   ],
   "source": [
    "bl.normal_ordering(b_1*bd_2 + 5*b_2**2*bd_1*b_1 + b_2)"
   ]
  },
  {
   "cell_type": "code",
   "execution_count": 17,
   "metadata": {},
   "outputs": [
    {
     "name": "stdout",
     "output_type": "stream",
     "text": [
      "b_{2} + 5 {b^\\dagger_{1}} b_{1} b_{2}^{2} + {b^\\dagger_{2}} b_{1}\n"
     ]
    }
   ],
   "source": [
    "print(latex(\n",
    "bl.normal_ordering(b_1*bd_2 + 5*b_2**2*bd_1*b_1 + b_2)\n",
    "))"
   ]
  },
  {
   "cell_type": "markdown",
   "metadata": {},
   "source": [
    "**Input with symbols:**"
   ]
  },
  {
   "cell_type": "code",
   "execution_count": 18,
   "metadata": {},
   "outputs": [
    {
     "data": {
      "text/latex": [
       "$\\displaystyle 2 x^{3} {b^\\dagger_{1}} + x^{3} {b^\\dagger_{1}}^{2} b_{1}$"
      ],
      "text/plain": [
       "2*x**3*CreateBoson(1) + x**3*CreateBoson(1)**2*AnnihilateBoson(1)"
      ]
     },
     "execution_count": 18,
     "metadata": {},
     "output_type": "execute_result"
    }
   ],
   "source": [
    "x = sm.Symbol(\"x\")\n",
    "\n",
    "bl.normal_ordering(x * b_1 * x**2 * bd_1**2)"
   ]
  },
  {
   "cell_type": "markdown",
   "metadata": {},
   "source": [
    "---"
   ]
  },
  {
   "cell_type": "markdown",
   "metadata": {},
   "source": [
    "### **Normal ordering of commutators**\n",
    "\n",
    "Commutators can be normal-ordered with the function [`NO_commutator`](https://github.com/hendry24/boson_ladder/blob/main/boson_ladder/core/do_commutator.py#L170) which simply calls `normal_ordering(A*B-B*A)` given the inputs `A` and `B`, most generally polynomials in ladder operators."
   ]
  },
  {
   "cell_type": "code",
   "execution_count": 19,
   "metadata": {},
   "outputs": [
    {
     "data": {
      "text/latex": [
       "$\\displaystyle - b_{}$"
      ],
      "text/plain": [
       "-AnnihilateBoson()"
      ]
     },
     "execution_count": 19,
     "metadata": {},
     "output_type": "execute_result"
    }
   ],
   "source": [
    "A = bd*b\n",
    "B = b\n",
    "bl.NO_commutator(A, B)"
   ]
  },
  {
   "cell_type": "markdown",
   "metadata": {},
   "source": [
    "**Multipartite input:**"
   ]
  },
  {
   "cell_type": "code",
   "execution_count": 20,
   "metadata": {},
   "outputs": [
    {
     "data": {
      "text/latex": [
       "$\\displaystyle -1 - {b^\\dagger_{1}} b_{1} - {b^\\dagger_{2}} b_{2}$"
      ],
      "text/plain": [
       "-1 - CreateBoson(1)*AnnihilateBoson(1) - CreateBoson(2)*AnnihilateBoson(2)"
      ]
     },
     "execution_count": 20,
     "metadata": {},
     "output_type": "execute_result"
    }
   ],
   "source": [
    "A = bd_1*bd_2\n",
    "B = b_1*b_2\n",
    "\n",
    "bl.NO_commutator(A, B)"
   ]
  },
  {
   "cell_type": "markdown",
   "metadata": {},
   "source": [
    "**Polynomial inputs:**"
   ]
  },
  {
   "cell_type": "code",
   "execution_count": 21,
   "metadata": {},
   "outputs": [
    {
     "data": {
      "text/latex": [
       "$\\displaystyle 8 b_{2}^{2} + 3 {b^\\dagger_{1}}^{2}$"
      ],
      "text/plain": [
       "8*AnnihilateBoson(2)**2 + 3*CreateBoson(1)**2"
      ]
     },
     "execution_count": 21,
     "metadata": {},
     "output_type": "execute_result"
    }
   ],
   "source": [
    "A = b_1 + 2*b_2**2\n",
    "B = bd_1**3 + 2*bd_2*b_2\n",
    "\n",
    "bl.NO_commutator(A, B)"
   ]
  },
  {
   "cell_type": "markdown",
   "metadata": {},
   "source": [
    "**Inputs with symbols:**"
   ]
  },
  {
   "cell_type": "code",
   "execution_count": 22,
   "metadata": {},
   "outputs": [
    {
     "data": {
      "text/latex": [
       "$\\displaystyle x^{1.5} b_{}$"
      ],
      "text/plain": [
       "x**1.5*AnnihilateBoson()"
      ]
     },
     "execution_count": 22,
     "metadata": {},
     "output_type": "execute_result"
    }
   ],
   "source": [
    "x = sm.Symbol(\"x\")\n",
    "A = x*b_1 \n",
    "B = x**(0.5)*bd_1*b\n",
    "\n",
    "bl.NO_commutator(A, B)"
   ]
  },
  {
   "cell_type": "markdown",
   "metadata": {},
   "source": [
    "---"
   ]
  },
  {
   "cell_type": "markdown",
   "metadata": {},
   "source": [
    "### **Expectation value evolution in the Lindblad Master Equation Framework**"
   ]
  },
  {
   "cell_type": "markdown",
   "metadata": {},
   "source": [
    "The master equation in the Lindblad form, or the Lindblad master equation (LME) is arguably the simplest extension of the Schr&ouml;dinger equation to open quantum systems (i.e. systems whose interaction with their environments are practically intractable). Instead of the wave function vector $\\left|\\psi\\right\\rangle$, we describe the system using density matrices $\\rho$, which evolves according to\n",
    "\\begin{align}\n",
    "    \\frac{\\mathrm{d}\\rho}{\\mathrm{d}t} = -\\frac{i}{\\hbar}\\left[\\hat{H},\\rho\\right] + \\sum_j \\gamma_j \\mathcal{D}\\left(\\hat{O}_j, \\hat{P}_j\\right)[\\rho]\n",
    "\\notag\n",
    "\\end{align}\n",
    "where the term with the Hamiltonian $\\hat{H}$ describes the closed system dynamics, and the rest describe the open system dynamics. Here, $\\gamma_j$ are nonnegative scalars, while \n",
    "\\begin{align}\n",
    "    \\mathcal{D}\\left(\\hat{O}_j, \\hat{P}_j\\right)\\left[\\rho\\right] = \\hat{O}_j\\rho\\hat{P}_j^\\dagger - \\frac{1}{2}\\left\\{\\hat{P}_j^\\dagger\\hat{O}_j,\\rho\\right\\} \\notag\n",
    "\\end{align}\n",
    "is the Liouvillian superator in the Lindblad form, or more concisely, the Lindblad dissipator. The operators $\\hat{O}_j, \\hat{P}_j$ describing the dissipator depends on the process (e.g. $\\hat{O}=\\hat{P}=\\hat{b}$ for a one-quantum dissipation). Meanwhile, the scalars $\\gamma_j$ can be interpreted as the rate of the processes.\n",
    "\n",
    "It is usually interesting to compute the evolution of some expectation value. For a system described by the density matrix $\\rho$, the expectation value of some quantity represented by the operator $\\hat{A}$ is given by $\\left\\langle A \\right\\rangle=\\mathrm{tr}\\left(\\rho\\hat{A}\\right)$. The evolution of $\\left\\langle A \\right\\rangle$ is given by\n",
    "\n",
    "\\begin{align}\n",
    "\\frac{\\mathrm{d}\\left\\langle A\\right\\rangle}{\\mathrm{d}t} &= \\mathrm{tr}\\left(\\frac{\\mathrm{d}\\rho}{\\mathrm{d}t}\\hat{A}\\right) \\notag\n",
    "\\\\\n",
    "&= -\\frac{i}{\\hbar}\\ \\mathrm{tr}\\left(\\left[\\hat{H},\\rho\\right]\\hat{A}\\right) + \\sum_j\\gamma_j\\mathrm{tr}\\left( \\mathcal{D}\\left(\\hat{O}_j, \\hat{P}_j\\right)\\left[\\rho\\right]\\hat{A}\\right) \\notag\n",
    "\\end{align}\n",
    "\n",
    "We call the first term on the RHS the \"Hamiltonian trace\" and the rest the \"dissipator traces\". It can be straightforwardly shown that\n",
    "\n",
    "\\begin{align}\n",
    "\\mathrm{tr}\\left(\\left[\\hat{H},\\rho\\right]\\hat{A}\\right) &=\\left\\langle\\left[\\hat{A},\\hat{H}\\right]\\right\\rangle \\notag\n",
    "\\\\ \\notag\n",
    "\\\\\n",
    "\\mathrm{tr}\\left({\\mathcal{D}\\left({\\hat{O}_j},\\hat{P}_j\\right)\\left[\\rho\\right]\\hat{A}}\\right) \n",
    "&= \\frac{1}{2}\\left\\langle{\\left[{\\hat{P}_j^\\dagger},{\\hat{A}}\\right]\\hat{O}_j}\\right\\rangle+\\frac{1}{2}\\left\\langle{\\hat{P}_j^\\dagger\\left[{\\hat{A}},{\\hat{O}_j}\\right]}\\right\\rangle\n",
    "\\notag\n",
    "\\end{align}\n",
    "These identities make the basis for the evaluation of the Hamiltonian trace by [`Hamiltonian_trace`](https://github.com/hendry24/boson_ladder/blob/main/boson_ladder/core/Lindblad_ME.py#L21) and the dissipator traces by [`dissipator_trace`](https://github.com/hendry24/boson_ladder/blob/main/boson_ladder/core/Lindblad_ME.py#L64)&mdash;check them out! \n",
    "\n",
    "The two functions make up the main function in this section: [`LME_expval_evo`](https://github.com/hendry24/boson_ladder/blob/main/boson_ladder/core/Lindblad_ME.py#L123). You only need to input the Hamiltonian `H`, the list of dissipators and their process rates `D`, and the operator `A` corresponding to the quantity whose expectation value evolution is of your interest&mdash;the function will do the rest. To be more specific, `D` has the syntax `D = [[gamma_0, O_0, P_0], [gamma_1, O_1, P_1], [gamma_2, O_2, P_2], ...]`. You can enter an empty list if the system is closed, and omit `P_j` if `O_j=P_j`."
   ]
  },
  {
   "cell_type": "markdown",
   "metadata": {},
   "source": [
    "**Example 1: One-dimensional quantum simple harmonic oscillator**\n",
    "\n",
    "Let us start simple with the simple harmonic oscillator. We have $\\hat{H}=\\hbar\\omega_0\\hat{b}^\\dagger\\hat{b}$ and no dissipators. The evolution of the expected phase point $\\left\\langle \\hat{b} \\right\\rangle = \\mathrm{tr}\\left(\\rho \\hat{b}\\right)$ is given by"
   ]
  },
  {
   "cell_type": "code",
   "execution_count": 23,
   "metadata": {},
   "outputs": [
    {
     "data": {
      "text/latex": [
       "$\\displaystyle \\frac{d}{d t} {\\left\\langle b_{} \\right\\rangle} = - i \\omega_{0} {\\left\\langle b_{} \\right\\rangle}$"
      ],
      "text/plain": [
       "Eq(Derivative({\\left\\langle b_{} \\right\\rangle}, t), -I*omega_0*{\\left\\langle b_{} \\right\\rangle})"
      ]
     },
     "execution_count": 23,
     "metadata": {},
     "output_type": "execute_result"
    }
   ],
   "source": [
    "hbar, omega_0 = sm.symbols(r\"hbar omega_0\")\n",
    "b, bd = bl.ops()\n",
    "\n",
    "H = hbar*omega_0*bd*b\n",
    "D = []\n",
    "A = b\n",
    "\n",
    "bl.LME_expval_evo(H, D, A, hbar_is_one=False)"
   ]
  },
  {
   "cell_type": "markdown",
   "metadata": {},
   "source": [
    "What about its energy, $\\left\\langle \\hat{b}^\\dagger \\hat{b} \\right\\rangle$? We can just set $\\hat{A}=\\hat{b}^\\dagger \\hat{b}$. We have"
   ]
  },
  {
   "cell_type": "code",
   "execution_count": 24,
   "metadata": {},
   "outputs": [
    {
     "data": {
      "text/latex": [
       "$\\displaystyle \\frac{d}{d t} {\\left\\langle {b^\\dagger_{}} b_{} \\right\\rangle} = 0$"
      ],
      "text/plain": [
       "Eq(Derivative({\\left\\langle {b^\\dagger_{}} b_{} \\right\\rangle}, t), 0)"
      ]
     },
     "execution_count": 24,
     "metadata": {},
     "output_type": "execute_result"
    }
   ],
   "source": [
    "A = bd*b\n",
    "\n",
    "bl.LME_expval_evo(H, D, A)"
   ]
  },
  {
   "cell_type": "markdown",
   "metadata": {},
   "source": [
    "**Example 2: The quantum Rayleigh oscillator, quantized by Chia et al.**\n",
    "\n",
    "Let us set $\\hbar=1$, for simplicity. The Hamiltonian is given by\n",
    "\\begin{equation}\n",
    "\\begin{split}\n",
    "    \\hat{H} &= \\omega_0\\bdag\\bop + i\\frac{\\mu}{12}\\left(\\bdag\\bop^3-\\bdagn{3}\\bop\\right)  \\notag\n",
    "    \\\\\n",
    "    &\\quad + i\\frac{\\mu}{24}\\left(\\bop^4-\\bdagn{4}\\right) - i\\frac{\\mu\\left(q_0^2-1\\right)}{4}\\left(\\bop^2-\\bdagn{2}\\right) \\notag\n",
    "\\end{split}\n",
    "\\end{equation}\n",
    "\n",
    "Meanwhile, the open system dynamics is specified by\n",
    "\n",
    "\\begin{align}\n",
    "    \\gamma_1 &= \\mu\\left(q_0^2-1\\right),\\quad \\hat{O}_1 = \\bdag  \\notag\n",
    "    \\\\\n",
    "    \\gamma_2 &= \\frac{3\\mu}{4}, \\quad \\hat{O}_2 = \\bop^2 \\notag\n",
    "    \\\\\n",
    "    \\gamma_3 &= \\mu, \\quad \\hat{O}_3 = \\bdag\\bop - \\frac{\\bdagn{2}}{2} \\notag\n",
    "\\end{align}\n",
    "\n",
    "The evolution of $\\expval{\\bop}$ is governed by\n",
    "\n",
    "\\begin{align}\n",
    "    \\odv{\\expval{\\bop}}{t} &= -i\\omega_0\\expval{\\bop} + \\frac{\\mu}{2} \\left(q_0^2-1\\right) \\left[\\expval{\\bop}+\\expval{\\bdag}\\right] \\notag\n",
    "    \\\\\n",
    "    &\\quad -\\frac{\\mu}{6}\\left[\\expval{\\bop^3}+\\expval{\\bdagn{3}}\\right] - \\frac{\\mu}{2}\\left[\\expval{\\bdag\\bop^2}+\\expval{\\bdagn{2}\\bop}\\right] \\notag\n",
    "\\end{align}"
   ]
  },
  {
   "cell_type": "code",
   "execution_count": 25,
   "metadata": {},
   "outputs": [
    {
     "data": {
      "text/latex": [
       "$\\displaystyle \\frac{d}{d t} {\\left\\langle b_{} \\right\\rangle} = \\frac{\\mu q_{0}^{2} {\\left\\langle b_{} \\right\\rangle}}{2} + \\frac{\\mu q_{0}^{2} {\\left\\langle {b^\\dagger_{}} \\right\\rangle}}{2} - \\frac{\\mu {\\left\\langle b_{} \\right\\rangle}}{2} - \\frac{\\mu {\\left\\langle b_{}^{3} \\right\\rangle}}{6} - \\frac{\\mu {\\left\\langle {b^\\dagger_{}} \\right\\rangle}}{2} - \\frac{\\mu {\\left\\langle {b^\\dagger_{}} b_{}^{2} \\right\\rangle}}{2} - \\frac{\\mu {\\left\\langle {b^\\dagger_{}}^{2} b_{} \\right\\rangle}}{2} - \\frac{\\mu {\\left\\langle {b^\\dagger_{}}^{3} \\right\\rangle}}{6} - i \\omega_{0} {\\left\\langle b_{} \\right\\rangle}$"
      ],
      "text/plain": [
       "Eq(Derivative({\\left\\langle b_{} \\right\\rangle}, t), mu*q_0**2*{\\left\\langle b_{} \\right\\rangle}/2 + mu*q_0**2*{\\left\\langle {b^\\dagger_{}} \\right\\rangle}/2 - mu*{\\left\\langle b_{} \\right\\rangle}/2 - mu*{\\left\\langle b_{}^{3} \\right\\rangle}/6 - mu*{\\left\\langle {b^\\dagger_{}} \\right\\rangle}/2 - mu*{\\left\\langle {b^\\dagger_{}} b_{}^{2} \\right\\rangle}/2 - mu*{\\left\\langle {b^\\dagger_{}}^{2} b_{} \\right\\rangle}/2 - mu*{\\left\\langle {b^\\dagger_{}}^{3} \\right\\rangle}/6 - I*omega_0*{\\left\\langle b_{} \\right\\rangle})"
      ]
     },
     "execution_count": 25,
     "metadata": {},
     "output_type": "execute_result"
    }
   ],
   "source": [
    "omega_0, mu, q_0 = sm.symbols(r\"omega_0 mu q_0\")\n",
    "b, bd = bl.ops()\n",
    "\n",
    "H = omega_0*bd*b \\\n",
    "    + sm.I*mu/12 * (bd*b**3 - bd**3*b) \\\n",
    "    + sm.I*mu/24 * (b**4-bd**4) \\\n",
    "    - sm.I*mu*(q_0**2-1)/4 * (b**2-bd**2)\n",
    "\n",
    "D = [[mu*(q_0**2-1), bd],\n",
    "     [3*mu/4, b**2],\n",
    "     [mu, bd*b-bd**2/2]]\n",
    "\n",
    "A = b\n",
    "\n",
    "bl.LME_expval_evo(H, D, A)"
   ]
  },
  {
   "cell_type": "markdown",
   "metadata": {},
   "source": [
    "**Example 3: A bipartite quantum battery with quadratic driving by Downing & Ukhtary**\n",
    "\n",
    "A quantum battery is a quantum system which can store energy and whose energy can be extracted for useful work. This particular setup is specified by\n",
    "\\begin{equation}\n",
    "\\begin{split}\n",
    "\\notag\n",
    "    \\hat{H} &= \\omega_c \\bdag_c\\bop_c + \\omega_h\\bdag_h\\bop_h \\\\\n",
    "    &\\quad + g\\left(\\bdag_c\\bop_h+\\bdag_h\\bop_c\\right) + \\frac{\\Omega}{2}\\delta(t)\\left(\\bdagn{2}_c+\\bop^2_c\\right)\n",
    "\\end{split}\n",
    "\\end{equation}\n",
    "and\n",
    "\\begin{equation}\n",
    "    \\gamma_1 = \\gamma, \\quad \\hat{O}_1 = \\bop_c \\notag\n",
    "\\end{equation}\n",
    "where the quadratic pulse of strength $\\Omega$ is applied at the beginning of the evolution. Here it is assumed to be a bang-bang pulse, as indicated by the Dirac delta function. The energy evolutions after the pulse application are given by\n",
    "\\begin{align}\n",
    "\\odv{\\expval{\\bdag_c\\bop_c}}{t} &= -\\gamma \\expval{\\bdag_c\\bop_c} - ig\\left[\\expval{\\bdag_c\\bop_h}-\\expval{\\bdag_h\\bop_c}\\right]   \\notag\n",
    "\\\\\n",
    "\\odv{\\expval{\\bdag_h\\bop_h}}{t} &= ig\\left[\\expval{\\bdag_c\\bop_h} - \\expval{\\bdag_h\\bop_c}\\right] \\notag\n",
    "\\end{align} "
   ]
  },
  {
   "cell_type": "code",
   "execution_count": 26,
   "metadata": {},
   "outputs": [
    {
     "data": {
      "text/latex": [
       "$\\displaystyle \\frac{d}{d t} {\\left\\langle {b^\\dagger_{\\mathtt{\\text{c}}}} b_{\\mathtt{\\text{c}}} \\right\\rangle} = - i g {\\left\\langle {b^\\dagger_{\\mathtt{\\text{c}}}} b_{\\mathtt{\\text{h}}} \\right\\rangle} + i g {\\left\\langle {b^\\dagger_{\\mathtt{\\text{h}}}} b_{\\mathtt{\\text{c}}} \\right\\rangle} - \\gamma {\\left\\langle {b^\\dagger_{\\mathtt{\\text{c}}}} b_{\\mathtt{\\text{c}}} \\right\\rangle}$"
      ],
      "text/plain": [
       "Eq(Derivative({\\left\\langle {b^\\dagger_{\\mathtt{\\text{c}}}} b_{\\mathtt{\\text{c}}} \\right\\rangle}, t), -I*g*{\\left\\langle {b^\\dagger_{\\mathtt{\\text{c}}}} b_{\\mathtt{\\text{h}}} \\right\\rangle} + I*g*{\\left\\langle {b^\\dagger_{\\mathtt{\\text{h}}}} b_{\\mathtt{\\text{c}}} \\right\\rangle} - gamma*{\\left\\langle {b^\\dagger_{\\mathtt{\\text{c}}}} b_{\\mathtt{\\text{c}}} \\right\\rangle})"
      ]
     },
     "execution_count": 26,
     "metadata": {},
     "output_type": "execute_result"
    }
   ],
   "source": [
    "omega_c, omega_h, g, gamma = \\\n",
    "    sm.symbols(r\"omega_c omega_h g gamma\")\n",
    "b_c, bd_c = bl.ops(\"c\")\n",
    "b_h, bd_h = bl.ops(\"h\")\n",
    "\n",
    "H = omega_c * bd_c*b_c \\\n",
    "    + omega_h * bd_h*b_h \\\n",
    "    + g*(bd_c*b_h + bd_h*b_c)\n",
    "\n",
    "D = [[gamma, b_c]]\n",
    "\n",
    "A = bd_c*b_c\n",
    "\n",
    "bl.LME_expval_evo(H,D,A)"
   ]
  },
  {
   "cell_type": "code",
   "execution_count": 27,
   "metadata": {},
   "outputs": [
    {
     "data": {
      "text/latex": [
       "$\\displaystyle \\frac{d}{d t} {\\left\\langle {b^\\dagger_{\\mathtt{\\text{h}}}} b_{\\mathtt{\\text{h}}} \\right\\rangle} = i g {\\left\\langle {b^\\dagger_{\\mathtt{\\text{c}}}} b_{\\mathtt{\\text{h}}} \\right\\rangle} - i g {\\left\\langle {b^\\dagger_{\\mathtt{\\text{h}}}} b_{\\mathtt{\\text{c}}} \\right\\rangle}$"
      ],
      "text/plain": [
       "Eq(Derivative({\\left\\langle {b^\\dagger_{\\mathtt{\\text{h}}}} b_{\\mathtt{\\text{h}}} \\right\\rangle}, t), I*g*{\\left\\langle {b^\\dagger_{\\mathtt{\\text{c}}}} b_{\\mathtt{\\text{h}}} \\right\\rangle} - I*g*{\\left\\langle {b^\\dagger_{\\mathtt{\\text{h}}}} b_{\\mathtt{\\text{c}}} \\right\\rangle})"
      ]
     },
     "execution_count": 27,
     "metadata": {},
     "output_type": "execute_result"
    }
   ],
   "source": [
    "A = bd_h*b_h\n",
    "\n",
    "bl.LME_expval_evo(H,D,A)"
   ]
  },
  {
   "cell_type": "markdown",
   "metadata": {},
   "source": [
    "**Example 4: A $\\mathcal{P}\\mathcal{T}$ symemtric trimer of harmonic oscillators**\n",
    "\n",
    "Downing and Saroka~\\cite{Downing2021} formulate a simple model of short oligomer chains of harmonic oscillators with a $\\mathcal{P}\\mathcal{T}$-symmetric Hamiltonian in the Lindblad master equation framework, showing the emergence of EPs. We consider a trimer system whose dynamics is specified by ($\\hbar=1$)\n",
    "\\begin{equation}\n",
    "\\begin{split}\n",
    "    \\hat{H} &= \\left(\\omega_0+i\\frac{\\kappa}{2}\\right)\\bdag_1\\bop_1 + \\omega_0\\bdag_2\\bop_2 + \\left(\\omega_0-i\\frac{\\kappa}{2}\\right)\\bdag_3\\bop_3\n",
    "    \\\\\n",
    "    &\\quad + g\\left(\\bdag_1\\bop_2+\\bdag_2\\bop_3+\\mathrm{h.c.}\\right)\n",
    "\\end{split}\n",
    "\\end{equation}\n",
    "and\n",
    "\\begin{align*}\n",
    "    \\gamma_1&=\\gamma_1,\\quad \\hat{O}_1=\\hat{P}_1=\\bop_1\n",
    "    \\\\\n",
    "    \\gamma_2&=\\gamma_2,\\quad \\hat{O}_2=\\hat{P}_2=\\bop_2\n",
    "    \\\\\n",
    "    \\gamma_3&=\\gamma_3,\\quad \\hat{O}_3=\\hat{P}_3=\\bop_3\n",
    "    \\\\\n",
    "    \\gamma_4&=p_1,\\quad \\hat{O}_4=\\hat{P}_4=\\bdag_1\n",
    "    \\\\\n",
    "    \\gamma_5&=p_2,\\quad \\hat{O}_5=\\hat{P}_5=\\bdag_2\n",
    "    \\\\\n",
    "    \\gamma_6&=p_3,\\quad \\hat{O}_6=\\hat{P}_6=\\bdag_3\n",
    "\\end{align*}\n",
    "where $\\omega_0$ is the natural frequency of all oscillators, $g$ is the coupling strength, and $\\kappa$ specifies both the gain rate of oscillator $1$ and loss rate of oscillator $3$. Meanwhile, $\\gamma_k$ and $p_k$, $k=1,2,3$, specify the gain and loss rates from incoherent processes for oscillator $k$. The non-Hermitian parts of $\\hat{H}$ are consequences of these processes. The evolution of $\\expval{\\bdag_k\\bop_k}$ are given by (cf. Eqs.[9, 14-19] of Ref.~\\cite{Downing2021})\n",
    "\\begin{align*}\n",
    "    \\odv{\\expval{\\bdag_1\\bop_1}}{t}\n",
    "    &= p_1-\\left(\\gamma_1-p_1\\right)\\expval{\\bdag_1\\bop_1}\n",
    "    \\\\ \\notag\n",
    "    &\\quad -ig\\expval{\\bdag_1\\bop_2}+ig\\expval{\\bdag_2\\bop_1}\n",
    "    \\\\\n",
    "    \\odv{\\expval{\\bdag_2\\bop_2}}{t} \n",
    "    &= \n",
    "    p_2 - \\left(\\gamma_2-p_2\\right)\\expval{\\bdag_2\\bop_2}\n",
    "    \\\\ \\notag\n",
    "    &\\quad +ig\\expval{\\bdag_1\\bop_2} - ig\\expval{\\bdag_2\\bop_3} \n",
    "    \\\\ \\notag\n",
    "    &\\quad -ig \\expval{\\bdag_2\\bop_1} + ig\\expval{\\bdag_3\\bop_2}\n",
    "    \\\\\n",
    "    \\odv{\\expval{\\bdag_3\\bop_3}}{t} \n",
    "    &= \n",
    "    p_3 - \\left(\\gamma_3-p_3\\right) \\expval{\\bdag_3\\bop_3}\n",
    "    \\\\ \\notag\n",
    "    &\\quad +ig\\expval{\\bdag_2\\bop_3} - ig\\expval{\\bdag_3\\bop_2}\n",
    "\\end{align*}\n",
    "Here are the equations obtained with the package:"
   ]
  },
  {
   "cell_type": "code",
   "execution_count": 28,
   "metadata": {},
   "outputs": [
    {
     "data": {
      "text/latex": [
       "$\\displaystyle \\frac{d}{d t} {\\left\\langle {b^\\dagger_{1}} b_{1} \\right\\rangle} = - i g {\\left\\langle {b^\\dagger_{1}} b_{2} \\right\\rangle} + i g {\\left\\langle {b^\\dagger_{2}} b_{1} \\right\\rangle} - \\gamma_{1} {\\left\\langle {b^\\dagger_{1}} b_{1} \\right\\rangle} + p_{1} {\\left\\langle {b^\\dagger_{1}} b_{1} \\right\\rangle} + p_{1}$"
      ],
      "text/plain": [
       "Eq(Derivative({\\left\\langle {b^\\dagger_{1}} b_{1} \\right\\rangle}, t), -I*g*{\\left\\langle {b^\\dagger_{1}} b_{2} \\right\\rangle} + I*g*{\\left\\langle {b^\\dagger_{2}} b_{1} \\right\\rangle} - gamma_1*{\\left\\langle {b^\\dagger_{1}} b_{1} \\right\\rangle} + p_1*{\\left\\langle {b^\\dagger_{1}} b_{1} \\right\\rangle} + p_1)"
      ]
     },
     "execution_count": 28,
     "metadata": {},
     "output_type": "execute_result"
    }
   ],
   "source": [
    "omega_0, kappa = sm.symbols(\"omega_0 kappa\")\n",
    "gamma_1, gamma_2, gamma_3 = sm.symbols(\"gamma_1 gamma_2 gamma_3\")\n",
    "p_1, p_2, p_3 = sm.symbols(\"p_1 p_2 p_3\")\n",
    "\n",
    "b_1, bd_1 = bl.ops(1)\n",
    "b_2, bd_2 = bl.ops(2)\n",
    "b_3, bd_3 = bl.ops(3)\n",
    "\n",
    "H = (omega_0 + sm.I*kappa/2)*bd_1*b_1 \\\n",
    "    + omega_0*bd_2*b_2 \\\n",
    "    + (omega_0 - sm.I*kappa/2)*bd_3*b_3 \\\n",
    "    + g*(bd_1*b_2+bd_2*b_1 + bd_2*b_3 + bd_3*b_2)\n",
    "    \n",
    "D = [[gamma_1, b_1],\n",
    "     [gamma_2, b_2],\n",
    "     [gamma_3, b_3],\n",
    "     [p_1, bd_1],\n",
    "     [p_2, bd_2],\n",
    "     [p_3, bd_3]]\n",
    "\n",
    "A = bd_1*b_1\n",
    "\n",
    "bl.LME_expval_evo(H, D, A)"
   ]
  },
  {
   "cell_type": "code",
   "execution_count": 29,
   "metadata": {},
   "outputs": [
    {
     "data": {
      "text/latex": [
       "$\\displaystyle \\frac{d}{d t} {\\left\\langle {b^\\dagger_{2}} b_{2} \\right\\rangle} = i g {\\left\\langle {b^\\dagger_{1}} b_{2} \\right\\rangle} - i g {\\left\\langle {b^\\dagger_{2}} b_{1} \\right\\rangle} - i g {\\left\\langle {b^\\dagger_{2}} b_{3} \\right\\rangle} + i g {\\left\\langle {b^\\dagger_{3}} b_{2} \\right\\rangle} - \\gamma_{2} {\\left\\langle {b^\\dagger_{2}} b_{2} \\right\\rangle} + p_{2} {\\left\\langle {b^\\dagger_{2}} b_{2} \\right\\rangle} + p_{2}$"
      ],
      "text/plain": [
       "Eq(Derivative({\\left\\langle {b^\\dagger_{2}} b_{2} \\right\\rangle}, t), I*g*{\\left\\langle {b^\\dagger_{1}} b_{2} \\right\\rangle} - I*g*{\\left\\langle {b^\\dagger_{2}} b_{1} \\right\\rangle} - I*g*{\\left\\langle {b^\\dagger_{2}} b_{3} \\right\\rangle} + I*g*{\\left\\langle {b^\\dagger_{3}} b_{2} \\right\\rangle} - gamma_2*{\\left\\langle {b^\\dagger_{2}} b_{2} \\right\\rangle} + p_2*{\\left\\langle {b^\\dagger_{2}} b_{2} \\right\\rangle} + p_2)"
      ]
     },
     "execution_count": 29,
     "metadata": {},
     "output_type": "execute_result"
    }
   ],
   "source": [
    "A = bd_2*b_2\n",
    "\n",
    "bl.LME_expval_evo(H, D, A)"
   ]
  },
  {
   "cell_type": "code",
   "execution_count": 30,
   "metadata": {},
   "outputs": [
    {
     "data": {
      "text/latex": [
       "$\\displaystyle \\frac{d}{d t} {\\left\\langle {b^\\dagger_{3}} b_{3} \\right\\rangle} = i g {\\left\\langle {b^\\dagger_{2}} b_{3} \\right\\rangle} - i g {\\left\\langle {b^\\dagger_{3}} b_{2} \\right\\rangle} - \\gamma_{3} {\\left\\langle {b^\\dagger_{3}} b_{3} \\right\\rangle} + p_{3} {\\left\\langle {b^\\dagger_{3}} b_{3} \\right\\rangle} + p_{3}$"
      ],
      "text/plain": [
       "Eq(Derivative({\\left\\langle {b^\\dagger_{3}} b_{3} \\right\\rangle}, t), I*g*{\\left\\langle {b^\\dagger_{2}} b_{3} \\right\\rangle} - I*g*{\\left\\langle {b^\\dagger_{3}} b_{2} \\right\\rangle} - gamma_3*{\\left\\langle {b^\\dagger_{3}} b_{3} \\right\\rangle} + p_3*{\\left\\langle {b^\\dagger_{3}} b_{3} \\right\\rangle} + p_3)"
      ]
     },
     "execution_count": 30,
     "metadata": {},
     "output_type": "execute_result"
    }
   ],
   "source": [
    "A = bd_3*b_3\n",
    "\n",
    "bl.LME_expval_evo(H, D, A)"
   ]
  },
  {
   "cell_type": "markdown",
   "metadata": {},
   "source": [
    "**Example 5: A pair of nonreciprocal driven-dissipative quantum resonators**\n",
    "\n",
    "A physical model that gives rise to nonreciprocity in open quantum systems is given by Downing and Sturges~\\cite{Downing2022}. The model consists of a pair of driven-dissipative quantum resonators, where asymmetry arises from the relative phase difference between the coherent and incoherent couplings. The dynamics is described within the Lindblad master equation framework, with ($\\hbar=1$)\n",
    "\\begin{equation}\n",
    "    \\hat{H} = \\Delta\\sum_{k=1,2}\\bdag_k\\bop_k + \\Omega\\left(\\bop_1+\\bdag_1\\right) + g\\left(e^{i\\theta}\\bdag_1\\bop_2 + e^{-i\\theta}\\bdag_2\\bop_1\\right) \n",
    "\\end{equation}\n",
    "and\n",
    "\\begin{align*}\n",
    "    \\gamma_1 &= \\gamma, \\quad \\hat{O}_1=\\hat{P}_1=\\bop_1\n",
    "    \\\\\n",
    "    \\gamma_2 &= \\gamma, \\quad \\hat{O}_2=\\hat{P}_2=\\bop_2\n",
    "    \\\\\n",
    "    \\gamma_3 &= \\Gamma e^{i\\phi}, \\quad \\hat{O}_3=\\bop_2,\\quad \\hat{P}_3=\\bdag_1\n",
    "    \\\\\n",
    "    \\gamma_4 &= \\Gamma e^{-i\\phi}, \\quad \\hat{O}_4 = \\bop_1,\\quad \\hat{P}_4 = \\bdag_2\n",
    "\\end{align*}\n",
    "in the rotating reference frame of the laser driving oscillator $1$. Here $\\Delta$ is the detuning of the oscillators with respect to the laser, $\\Omega$ is the driving strength, $g$ is the (coherent) coupling strength, and $\\theta$ is the coupling phase. The third and fourth dissipators describe the incoherent coupling between the two oscillators sharing the same bath, whose rate is taken to be complex with amplitude $0\\leq \\Gamma\\leq \\gamma$ and phase $\\phi$. The quantities $\\expval{\\bop_1}$ and $\\expval{\\bop_2}$ evolves according to\n",
    "\\begin{align*}\n",
    "    \\odv{\\expval{\\bop_1}}{t} &=\n",
    "    -i\\left(\\Delta -i \\frac{\\gamma}{2}\\right)\\expval{\\bop_1}-\\left(ige^{i\\theta}+\\frac{\\Gamma e^{i\\phi}}{2}\\right)\\expval{\\bop_2}-i\\Omega \n",
    "    \\\\\n",
    "    \\odv{\\expval{\\bop_2}}{t} &=\n",
    "    -\\left(ige^{-i\\theta}+\\frac{\\Gamma e^{-i\\phi}}{2}\\right)\\expval{\\bop_1}-i\\left(\\Delta-i\\frac{\\gamma}{2}\\right)\\expval{\\bop_2}\n",
    "\\end{align*}\n",
    "Here are the equations obtained using the package:"
   ]
  },
  {
   "cell_type": "code",
   "execution_count": 31,
   "metadata": {},
   "outputs": [
    {
     "data": {
      "text/latex": [
       "$\\displaystyle \\frac{d}{d t} {\\left\\langle b_{1} \\right\\rangle} = - i \\Delta {\\left\\langle b_{1} \\right\\rangle} - \\frac{\\Gamma {\\left\\langle b_{2} \\right\\rangle} e^{i \\phi}}{2} - i \\Omega - i g {\\left\\langle b_{2} \\right\\rangle} e^{i \\theta} - \\frac{\\gamma {\\left\\langle b_{1} \\right\\rangle}}{2}$"
      ],
      "text/plain": [
       "Eq(Derivative({\\left\\langle b_{1} \\right\\rangle}, t), -I*Delta*{\\left\\langle b_{1} \\right\\rangle} - Gamma*{\\left\\langle b_{2} \\right\\rangle}*exp(I*phi)/2 - I*Omega - I*g*{\\left\\langle b_{2} \\right\\rangle}*exp(I*theta) - gamma*{\\left\\langle b_{1} \\right\\rangle}/2)"
      ]
     },
     "execution_count": 31,
     "metadata": {},
     "output_type": "execute_result"
    }
   ],
   "source": [
    "Delta, Omega, g, theta = sm.symbols(\"Delta Omega g theta\")\n",
    "gamma, Gamma, phi = sm.symbols(\"gamma Gamma phi\")\n",
    "\n",
    "b_1, bd_1 = bl.ops(1)\n",
    "b_2, bd_2 = bl.ops(2)\n",
    "\n",
    "H = Delta*(bd_1*b_1 + bd_2*b_2) \\\n",
    "    + Omega*(b_1+bd_1) \\\n",
    "    + g*(sm.E**(sm.I*theta)*bd_1*b_2 + sm.E**(-sm.I*theta)*bd_2*b_1)\n",
    "\n",
    "D = [[gamma, b_1],\n",
    "     [gamma, b_2],\n",
    "     [Gamma*sm.E**(sm.I*phi), b_2, b_1],\n",
    "     [Gamma*sm.E**(-sm.I*phi), b_1, b_2]]\n",
    "\n",
    "A = b_1\n",
    "\n",
    "bl.LME_expval_evo(H, D, A)"
   ]
  },
  {
   "cell_type": "code",
   "execution_count": 32,
   "metadata": {},
   "outputs": [
    {
     "data": {
      "text/latex": [
       "$\\displaystyle \\frac{d}{d t} {\\left\\langle b_{2} \\right\\rangle} = - i \\Delta {\\left\\langle b_{2} \\right\\rangle} - \\frac{\\Gamma {\\left\\langle b_{1} \\right\\rangle} e^{- i \\phi}}{2} - i g {\\left\\langle b_{1} \\right\\rangle} e^{- i \\theta} - \\frac{\\gamma {\\left\\langle b_{2} \\right\\rangle}}{2}$"
      ],
      "text/plain": [
       "Eq(Derivative({\\left\\langle b_{2} \\right\\rangle}, t), -I*Delta*{\\left\\langle b_{2} \\right\\rangle} - Gamma*{\\left\\langle b_{1} \\right\\rangle}*exp(-I*phi)/2 - I*g*{\\left\\langle b_{1} \\right\\rangle}*exp(-I*theta) - gamma*{\\left\\langle b_{2} \\right\\rangle}/2)"
      ]
     },
     "execution_count": 32,
     "metadata": {},
     "output_type": "execute_result"
    }
   ],
   "source": [
    "A = b_2\n",
    "\n",
    "bl.LME_expval_evo(H, D, A)"
   ]
  },
  {
   "cell_type": "markdown",
   "metadata": {},
   "source": [
    "---"
   ]
  },
  {
   "cell_type": "markdown",
   "metadata": {},
   "source": [
    "### **You made it here. Congratulations!**\n",
    "\n",
    "You should now have a good idea of how to utilize the package. We would like to hear your thoughts on the package: bugs, bad call signatures, potential improvements, extra features, etc. We hope this package be of use to you.\n",
    "\n",
    "Thank you very much.\n",
    "\n",
    "---\n",
    "\n",
    "**The authors:**\n",
    "-   Hendry M. Lim\n",
    "-   Donny Dwiputra\n",
    "-   M. Shoufie Ukhtary\n",
    "-   Ahmad R. T. Nugraha\n",
    "\n",
    "_(Last updated: 23 December 2024)_"
   ]
  }
 ],
 "metadata": {
  "kernelspec": {
   "display_name": "pyvenv",
   "language": "python",
   "name": "python3"
  },
  "language_info": {
   "codemirror_mode": {
    "name": "ipython",
    "version": 3
   },
   "file_extension": ".py",
   "mimetype": "text/x-python",
   "name": "python",
   "nbconvert_exporter": "python",
   "pygments_lexer": "ipython3",
   "version": "3.12.3"
  }
 },
 "nbformat": 4,
 "nbformat_minor": 2
}

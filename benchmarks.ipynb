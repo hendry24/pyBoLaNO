{
 "cells": [
  {
   "cell_type": "code",
   "execution_count": null,
   "metadata": {},
   "outputs": [],
   "source": [
    "import sympy as sm\n",
    "import pybolano as bl\n",
    "from sympy.physics.quantum import Dagger\n",
    "from sympy.physics.quantum.boson import BosonOp\n",
    "from sympy.physics.quantum.operatorordering import normal_ordered_form\n",
    "import matplotlib.pyplot as plt\n",
    "import matplotlib.gridspec as mplgs\n",
    "import matplotlib.colors as mplcl\n",
    "import time\n",
    "from tqdm import tqdm\n",
    "import numpy as np\n",
    "import random\n",
    "bl.mp_config[\"num_cpus\"] = 8\n",
    "\n",
    "b, bd = bl.ops()\n",
    "\n",
    "b_s = BosonOp(r\"b_\\mathrm{S}\")\n",
    "bd_s = Dagger(b_s)"
   ]
  },
  {
   "cell_type": "markdown",
   "metadata": {},
   "source": [
    "**Benchmark a:** normal ordering of $N$ monomials containing $n_\\mathrm{ladder}$ ladder operators and a set $k$ of subscripts."
   ]
  },
  {
   "cell_type": "code",
   "execution_count": null,
   "metadata": {},
   "outputs": [],
   "source": [
    "def get_data(n_ladder, k, N):\n",
    "    t_bl = []\n",
    "    t_s = []\n",
    "    monomials = []\n",
    "    for _ in range(1, N+1):\n",
    "        \n",
    "        q = bl.random_ladder(n_ladder, k)\n",
    "        q_s = bl.to_sympy_physics(q)\n",
    "        monomials.append(q)\n",
    "        \n",
    "        t_i = time.time()\n",
    "        bl.normal_ordering(q)\n",
    "        dur = time.time()-t_i\n",
    "        t_bl.append(dur)\n",
    "\n",
    "        t_i = time.time()\n",
    "        normal_ordered_form(q_s, recursive_limit=100000) \n",
    "        dur = time.time()-t_i\n",
    "        t_s.append(dur)\n",
    "        \n",
    "    return monomials, t_bl, t_s\n",
    "\n",
    "n_ladder = 10\n",
    "k = [1,2]\n",
    "N = 1000\n",
    "\n",
    "# monomials, t_bl, t_s = get_data(n_ladder=n_ladder, k=k, N=N)\n",
    "# np.savetxt(\"a-t_bl\", t_bl)\n",
    "# np.savetxt(\"a-t_s\", t_s)"
   ]
  },
  {
   "cell_type": "code",
   "execution_count": null,
   "metadata": {},
   "outputs": [],
   "source": [
    "plt.rcParams[\"font.size\"] = 20\n",
    "plt.rcParams[\"axes.linewidth\"] = 2\n",
    "fig = plt.figure(figsize=(6, 4), constrained_layout=True)\n",
    "gs = mplgs.GridSpec(1, 1, fig)\n",
    "axes = [fig.add_subplot(gs[i]) for i in range(1)]\n",
    "\n",
    "bg_color = (\"yellow\",0.2)\n",
    "\n",
    "ax = axes[0]\n",
    "t_bl = np.loadtxt(\"a-t_bl\")\n",
    "t_s = np.loadtxt(\"a-t_s\")\n",
    "N_lst = range(len(t_bl))\n",
    "ax.scatter(N_lst, t_bl, c=bg_color, marker=\"s\", edgecolor=\"b\", s=12, label=\"pyBoLaNO\")\n",
    "ax.scatter(N_lst, t_s, c=\"r\", marker=\"o\", s=5, label=\"SymPy\")\n",
    "\n",
    "ax.set_xlabel(\"test #\")\n",
    "ax.set_ylabel(\"execution time (s)\")\n",
    "ax.set_facecolor(bg_color)\n",
    "\n",
    "ax.set_yscale(\"log\")\n",
    "\n",
    "plt.tick_params(width = 2, direction = \"in\")\n",
    "fig.legend(loc = \"upper center\", bbox_to_anchor = (0.5, 0.05), ncol=2, framealpha=0,\n",
    "           fontsize = 18)"
   ]
  },
  {
   "cell_type": "markdown",
   "metadata": {},
   "source": [
    "Every case where `SymPy` wins is where the input is already normal-ordered to begin with. `pyBoLaNO` takes a bit longer since it does not check whether the input is normal-ordered. `SymPy`'s implementation does this as a consequence of its algorithm."
   ]
  },
  {
   "cell_type": "code",
   "execution_count": null,
   "metadata": {},
   "outputs": [],
   "source": [
    "# for i in np.where(t_s<t_bl)[0]:\n",
    "#     print(sm.latex(monomials[i]))"
   ]
  },
  {
   "cell_type": "markdown",
   "metadata": {},
   "source": [
    "\n",
    "---\n",
    "\n",
    "**Benchmark b:** Difference between the averages of **Benchmark a** results for varying $n_\\mathrm{ladder}$ and $|k|$."
   ]
  },
  {
   "cell_type": "code",
   "execution_count": null,
   "metadata": {},
   "outputs": [],
   "source": [
    "n_ladder_lst = list(range(1, 21))\n",
    "k_lst = []\n",
    "for i in range(1, 21):\n",
    "    k = []\n",
    "    for j in range(1, i+1):\n",
    "        k.append(j)\n",
    "    k_lst.append(k)\n",
    "    \n",
    "np.savetxt(\"b/n_ladder\", n_ladder_lst)\n",
    "np.savetxt(\"b/k_size\", [len(k) for k in k_lst])\n",
    "\n",
    "res = []\n",
    "for iter, n_ladder in enumerate(n_ladder_lst):\n",
    "    ress = []\n",
    "    for iiter, k in enumerate(k_lst):\n",
    "        print(f\"n ({iter+1}/{len(n_ladder_lst)}), k ({iiter+1}/{len(k_lst)})\")\n",
    "        _, t_bl, t_s = get_data(n_ladder=n_ladder, k=k, N=N)\n",
    "        mean_t_bl = np.mean(t_bl)\n",
    "        mean_t_s = np.mean(t_s)\n",
    "        ress.append(mean_t_s - mean_t_bl)\n",
    "    res.append(ress)\n",
    "    print(\"---\")\n",
    "    \n",
    "np.savetxt(\"b/res\", res)"
   ]
  },
  {
   "cell_type": "code",
   "execution_count": null,
   "metadata": {},
   "outputs": [],
   "source": [
    "x = np.loadtxt(\"b/n_ladder\")\n",
    "y = np.loadtxt(\"b/k_size\")\n",
    "x, y = np.meshgrid(x, y)\n",
    "z = np.loadtxt(\"b/res\")\n",
    "\n",
    "plt.imshow(z)"
   ]
  }
 ],
 "metadata": {
  "kernelspec": {
   "display_name": "venv",
   "language": "python",
   "name": "python3"
  },
  "language_info": {
   "codemirror_mode": {
    "name": "ipython",
    "version": 3
   },
   "file_extension": ".py",
   "mimetype": "text/x-python",
   "name": "python",
   "nbconvert_exporter": "python",
   "pygments_lexer": "ipython3",
   "version": "3.11.2"
  }
 },
 "nbformat": 4,
 "nbformat_minor": 2
}
